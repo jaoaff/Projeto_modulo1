{
  "nbformat": 4,
  "nbformat_minor": 0,
  "metadata": {
    "colab": {
      "provenance": []
    },
    "kernelspec": {
      "name": "python3",
      "display_name": "Python 3"
    },
    "language_info": {
      "name": "python"
    }
  },
  "cells": [
    {
      "cell_type": "code",
      "execution_count": null,
      "metadata": {
        "colab": {
          "base_uri": "https://localhost:8080/"
        },
        "id": "_ymS8BSp_pmG",
        "outputId": "328ab29d-421a-4391-f3b4-2f2a7132a521"
      },
      "outputs": [
        {
          "output_type": "stream",
          "name": "stdout",
          "text": [
            "digite a nota da primeira prova de 0 a 10: 10\n",
            "digite a nota da primeira prova de 0 a 10: 9.5\n",
            "digite a nota de trbalho de 0 a 10: 6.25\n",
            "Sua nota final é: 8.7\n"
          ]
        }
      ],
      "source": [
        "#-------------------calculadora--------------------------------------------\n",
        "#--------------------entradas----------------------------------------------\n",
        "\n",
        "p1 = input(\"digite a nota da primeira prova de 0 a 10: \")\n",
        "p2 = input(\"digite a nota da primeira prova de 0 a 10: \")\n",
        "trab = input(\"digite a nota de trbalho de 0 a 10: \")\n",
        "\n",
        "\n",
        "\n",
        "\n",
        "#---------------------cálculos---------------------------------------------\n",
        "\n",
        "if p1 == \"\" or p2 == \"\" or trab == \"\":\n",
        "  print(\"Um dos tópico ficou vazio, preecha novamente\")\n",
        "\n",
        "else:\n",
        "  #calcula a média e já converte para peso 7\n",
        "\n",
        "  media_convertida = (((float(p1) + float(p2)) / 2) * 7) / 10\n",
        "\n",
        "  #converte a nota de trabalho para média final com peso 3\n",
        "\n",
        "  trab_convertido = (float(trab) * 3) / 10\n",
        "\n",
        "\n",
        "  nota_final = media_convertida + trab_convertido\n",
        "\n",
        "  nota_final = round(nota_final, 2)\n",
        "\n",
        "  #-------------------devolutiva---------------------------------------------\n",
        "\n",
        "  print(\"Sua nota final é:\", nota_final)"
      ]
    }
  ]
}